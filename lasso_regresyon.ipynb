{
  "nbformat": 4,
  "nbformat_minor": 0,
  "metadata": {
    "colab": {
      "provenance": []
    },
    "kernelspec": {
      "name": "python3",
      "display_name": "Python 3"
    },
    "language_info": {
      "name": "python"
    }
  },
  "cells": [
    {
      "cell_type": "markdown",
      "source": [
        "- Lasso Regresyon -> L1 Yöntemi\n",
        "- Ridge Regresyon -> L2 Yöntemi\n",
        "(SSE l1)"
      ],
      "metadata": {
        "id": "7ARKtLSJNokm"
      }
    },
    {
      "cell_type": "markdown",
      "source": [
        "Ridge de katsayılar 0 a yaklastırır, lasso 0 yapar."
      ],
      "metadata": {
        "id": "r5q_gq2WODJB"
      }
    },
    {
      "cell_type": "code",
      "execution_count": 3,
      "metadata": {
        "id": "mUOFhILRBHBG"
      },
      "outputs": [],
      "source": [
        "import numpy as np\n",
        "import pandas as pd\n",
        "from sklearn.linear_model import Ridge, Lasso\n",
        "from sklearn.metrics import mean_squared_error, r2_score\n",
        "from sklearn.model_selection import train_test_split\n",
        "import matplotlib.pyplot as plt\n",
        "from sklearn.linear_model import RidgeCV, LassoCV"
      ]
    },
    {
      "cell_type": "code",
      "source": [
        "df=pd.read_csv(\"/content/Hitters.csv\")\n",
        "df=df.dropna()\n",
        "dms=pd.get_dummies(df[['Division','League','NewLeague']])\n",
        "y=df[\"Salary\"]\n",
        "X_=df.drop(['Salary','League','Division','NewLeague'],axis=1).astype('float64')\n",
        "X=pd.concat([X_, dms[['League_N','Division_W','NewLeague_N']]],axis=1)\n",
        "X_train, X_test, y_train, y_test =train_test_split(X,\n",
        "                                                   y,\n",
        "                                                   test_size=0.25,\n",
        "                                                   random_state=42)"
      ],
      "metadata": {
        "id": "1MbIFmEQOtze"
      },
      "execution_count": 4,
      "outputs": []
    },
    {
      "cell_type": "code",
      "source": [
        "lasso_model=Lasso().fit(X_train, y_train)"
      ],
      "metadata": {
        "id": "ORXsszXIOwX7",
        "colab": {
          "base_uri": "https://localhost:8080/"
        },
        "outputId": "3b1ad828-c645-4383-ad94-308cf9330bbc"
      },
      "execution_count": 5,
      "outputs": [
        {
          "output_type": "stream",
          "name": "stderr",
          "text": [
            "/usr/local/lib/python3.10/dist-packages/sklearn/linear_model/_coordinate_descent.py:631: ConvergenceWarning: Objective did not converge. You might want to increase the number of iterations, check the scale of the features or consider increasing regularisation. Duality gap: 8.257e+06, tolerance: 3.899e+03\n",
            "  model = cd_fast.enet_coordinate_descent(\n"
          ]
        }
      ]
    },
    {
      "cell_type": "code",
      "source": [
        "lasso_model"
      ],
      "metadata": {
        "id": "TX2ZUhEqPDrJ",
        "colab": {
          "base_uri": "https://localhost:8080/",
          "height": 74
        },
        "outputId": "2d4968e0-aec4-46b1-f0ed-0aed0534620a"
      },
      "execution_count": 6,
      "outputs": [
        {
          "output_type": "execute_result",
          "data": {
            "text/plain": [
              "Lasso()"
            ],
            "text/html": [
              "<style>#sk-container-id-1 {color: black;background-color: white;}#sk-container-id-1 pre{padding: 0;}#sk-container-id-1 div.sk-toggleable {background-color: white;}#sk-container-id-1 label.sk-toggleable__label {cursor: pointer;display: block;width: 100%;margin-bottom: 0;padding: 0.3em;box-sizing: border-box;text-align: center;}#sk-container-id-1 label.sk-toggleable__label-arrow:before {content: \"▸\";float: left;margin-right: 0.25em;color: #696969;}#sk-container-id-1 label.sk-toggleable__label-arrow:hover:before {color: black;}#sk-container-id-1 div.sk-estimator:hover label.sk-toggleable__label-arrow:before {color: black;}#sk-container-id-1 div.sk-toggleable__content {max-height: 0;max-width: 0;overflow: hidden;text-align: left;background-color: #f0f8ff;}#sk-container-id-1 div.sk-toggleable__content pre {margin: 0.2em;color: black;border-radius: 0.25em;background-color: #f0f8ff;}#sk-container-id-1 input.sk-toggleable__control:checked~div.sk-toggleable__content {max-height: 200px;max-width: 100%;overflow: auto;}#sk-container-id-1 input.sk-toggleable__control:checked~label.sk-toggleable__label-arrow:before {content: \"▾\";}#sk-container-id-1 div.sk-estimator input.sk-toggleable__control:checked~label.sk-toggleable__label {background-color: #d4ebff;}#sk-container-id-1 div.sk-label input.sk-toggleable__control:checked~label.sk-toggleable__label {background-color: #d4ebff;}#sk-container-id-1 input.sk-hidden--visually {border: 0;clip: rect(1px 1px 1px 1px);clip: rect(1px, 1px, 1px, 1px);height: 1px;margin: -1px;overflow: hidden;padding: 0;position: absolute;width: 1px;}#sk-container-id-1 div.sk-estimator {font-family: monospace;background-color: #f0f8ff;border: 1px dotted black;border-radius: 0.25em;box-sizing: border-box;margin-bottom: 0.5em;}#sk-container-id-1 div.sk-estimator:hover {background-color: #d4ebff;}#sk-container-id-1 div.sk-parallel-item::after {content: \"\";width: 100%;border-bottom: 1px solid gray;flex-grow: 1;}#sk-container-id-1 div.sk-label:hover label.sk-toggleable__label {background-color: #d4ebff;}#sk-container-id-1 div.sk-serial::before {content: \"\";position: absolute;border-left: 1px solid gray;box-sizing: border-box;top: 0;bottom: 0;left: 50%;z-index: 0;}#sk-container-id-1 div.sk-serial {display: flex;flex-direction: column;align-items: center;background-color: white;padding-right: 0.2em;padding-left: 0.2em;position: relative;}#sk-container-id-1 div.sk-item {position: relative;z-index: 1;}#sk-container-id-1 div.sk-parallel {display: flex;align-items: stretch;justify-content: center;background-color: white;position: relative;}#sk-container-id-1 div.sk-item::before, #sk-container-id-1 div.sk-parallel-item::before {content: \"\";position: absolute;border-left: 1px solid gray;box-sizing: border-box;top: 0;bottom: 0;left: 50%;z-index: -1;}#sk-container-id-1 div.sk-parallel-item {display: flex;flex-direction: column;z-index: 1;position: relative;background-color: white;}#sk-container-id-1 div.sk-parallel-item:first-child::after {align-self: flex-end;width: 50%;}#sk-container-id-1 div.sk-parallel-item:last-child::after {align-self: flex-start;width: 50%;}#sk-container-id-1 div.sk-parallel-item:only-child::after {width: 0;}#sk-container-id-1 div.sk-dashed-wrapped {border: 1px dashed gray;margin: 0 0.4em 0.5em 0.4em;box-sizing: border-box;padding-bottom: 0.4em;background-color: white;}#sk-container-id-1 div.sk-label label {font-family: monospace;font-weight: bold;display: inline-block;line-height: 1.2em;}#sk-container-id-1 div.sk-label-container {text-align: center;}#sk-container-id-1 div.sk-container {/* jupyter's `normalize.less` sets `[hidden] { display: none; }` but bootstrap.min.css set `[hidden] { display: none !important; }` so we also need the `!important` here to be able to override the default hidden behavior on the sphinx rendered scikit-learn.org. See: https://github.com/scikit-learn/scikit-learn/issues/21755 */display: inline-block !important;position: relative;}#sk-container-id-1 div.sk-text-repr-fallback {display: none;}</style><div id=\"sk-container-id-1\" class=\"sk-top-container\"><div class=\"sk-text-repr-fallback\"><pre>Lasso()</pre><b>In a Jupyter environment, please rerun this cell to show the HTML representation or trust the notebook. <br />On GitHub, the HTML representation is unable to render, please try loading this page with nbviewer.org.</b></div><div class=\"sk-container\" hidden><div class=\"sk-item\"><div class=\"sk-estimator sk-toggleable\"><input class=\"sk-toggleable__control sk-hidden--visually\" id=\"sk-estimator-id-1\" type=\"checkbox\" checked><label for=\"sk-estimator-id-1\" class=\"sk-toggleable__label sk-toggleable__label-arrow\">Lasso</label><div class=\"sk-toggleable__content\"><pre>Lasso()</pre></div></div></div></div></div>"
            ]
          },
          "metadata": {},
          "execution_count": 6
        }
      ]
    },
    {
      "cell_type": "code",
      "source": [
        "lasso_model.intercept_\n"
      ],
      "metadata": {
        "id": "whdxvLf2PFTl",
        "colab": {
          "base_uri": "https://localhost:8080/"
        },
        "outputId": "ee9fc764-96f7-4506-ba59-e910a1956a8b"
      },
      "execution_count": 7,
      "outputs": [
        {
          "output_type": "execute_result",
          "data": {
            "text/plain": [
              "-5.587450677336506"
            ]
          },
          "metadata": {},
          "execution_count": 7
        }
      ]
    },
    {
      "cell_type": "code",
      "source": [
        "lasso_model.coef_"
      ],
      "metadata": {
        "id": "Kc_VLgA_PKnu",
        "colab": {
          "base_uri": "https://localhost:8080/"
        },
        "outputId": "af8d612f-51e6-4e57-b4aa-9284f8cc67a2"
      },
      "execution_count": 8,
      "outputs": [
        {
          "output_type": "execute_result",
          "data": {
            "text/plain": [
              "array([-1.74875691e+00,  8.59204135e+00,  6.67993798e+00, -3.06715333e+00,\n",
              "       -1.91843070e+00,  5.32372890e+00,  8.39184117e+00, -1.63172447e-01,\n",
              "       -8.22311277e-02, -3.93602861e-01,  1.71118530e+00,  6.55730545e-01,\n",
              "       -6.48379405e-01,  2.59815358e-01,  2.73041157e-01, -4.41440454e-01,\n",
              "        8.54474011e+01, -9.59701213e+01, -2.13086605e+01])"
            ]
          },
          "metadata": {},
          "execution_count": 8
        }
      ]
    },
    {
      "cell_type": "code",
      "source": [
        "lasso = Lasso()\n",
        "coefs = []\n",
        "alphas=np.random.randint(0,1000,10) #0dan 1000e kadar 10ar 10ar\n",
        "for a in alphas:\n",
        "  lasso.set_params(alpha=a)\n",
        "  lasso.fit(X_train, y_train)\n",
        "  coefs.append(lasso.coef_)"
      ],
      "metadata": {
        "id": "-cEGSrbxPNUM",
        "colab": {
          "base_uri": "https://localhost:8080/"
        },
        "outputId": "d9ac2026-094b-4929-e1e4-8f8eead88677"
      },
      "execution_count": 9,
      "outputs": [
        {
          "output_type": "stream",
          "name": "stderr",
          "text": [
            "/usr/local/lib/python3.10/dist-packages/sklearn/linear_model/_coordinate_descent.py:631: ConvergenceWarning: Objective did not converge. You might want to increase the number of iterations, check the scale of the features or consider increasing regularisation. Duality gap: 4.142e+03, tolerance: 3.899e+03\n",
            "  model = cd_fast.enet_coordinate_descent(\n",
            "/usr/local/lib/python3.10/dist-packages/sklearn/linear_model/_coordinate_descent.py:631: ConvergenceWarning: Objective did not converge. You might want to increase the number of iterations, check the scale of the features or consider increasing regularisation. Duality gap: 4.884e+03, tolerance: 3.899e+03\n",
            "  model = cd_fast.enet_coordinate_descent(\n",
            "/usr/local/lib/python3.10/dist-packages/sklearn/linear_model/_coordinate_descent.py:631: ConvergenceWarning: Objective did not converge. You might want to increase the number of iterations, check the scale of the features or consider increasing regularisation. Duality gap: 6.664e+06, tolerance: 3.899e+03\n",
            "  model = cd_fast.enet_coordinate_descent(\n",
            "/usr/local/lib/python3.10/dist-packages/sklearn/linear_model/_coordinate_descent.py:631: ConvergenceWarning: Objective did not converge. You might want to increase the number of iterations, check the scale of the features or consider increasing regularisation. Duality gap: 7.684e+03, tolerance: 3.899e+03\n",
            "  model = cd_fast.enet_coordinate_descent(\n",
            "/usr/local/lib/python3.10/dist-packages/sklearn/linear_model/_coordinate_descent.py:631: ConvergenceWarning: Objective did not converge. You might want to increase the number of iterations, check the scale of the features or consider increasing regularisation. Duality gap: 6.361e+03, tolerance: 3.899e+03\n",
            "  model = cd_fast.enet_coordinate_descent(\n"
          ]
        }
      ]
    },
    {
      "cell_type": "code",
      "source": [
        "coefs"
      ],
      "metadata": {
        "id": "IQna3q3TSZa7",
        "colab": {
          "base_uri": "https://localhost:8080/"
        },
        "outputId": "55c41a23-2cf7-40e0-bce9-3da98f0d33d0"
      },
      "execution_count": 10,
      "outputs": [
        {
          "output_type": "execute_result",
          "data": {
            "text/plain": [
              "[array([-1.17247831,  5.64826351,  0.        ,  0.        ,  0.        ,\n",
              "         2.87276193,  0.        , -0.16785172,  0.21734882, -0.        ,\n",
              "         1.07805984,  0.47447974, -0.22625954,  0.27322281,  0.18084297,\n",
              "        -0.        ,  0.        , -0.        ,  0.        ]),\n",
              " array([-0.96587854,  5.12299653,  0.        ,  0.        ,  0.        ,\n",
              "         2.47267295,  0.        , -0.17862367,  0.2730972 , -0.        ,\n",
              "         1.00419064,  0.46553873, -0.15839315,  0.2720531 ,  0.16311138,\n",
              "        -0.        ,  0.        , -0.        ,  0.        ]),\n",
              " array([ 0.11012461,  2.18880675,  0.        ,  0.        ,  0.        ,\n",
              "         0.        ,  0.        , -0.14716414,  0.25174268,  0.        ,\n",
              "         0.80092477,  0.3845879 ,  0.01088596,  0.29161092,  0.05183666,\n",
              "        -0.        ,  0.        , -0.        ,  0.        ]),\n",
              " array([ 0.        ,  2.59421347,  0.        ,  0.        ,  0.        ,\n",
              "         0.19207548,  0.        , -0.17759103,  0.3215469 ,  0.        ,\n",
              "         0.83300437,  0.41794322,  0.01987579,  0.28367335,  0.07529173,\n",
              "        -0.        ,  0.        , -0.        ,  0.        ]),\n",
              " array([ 0.24347277,  1.74031457,  0.        ,  0.        ,  0.        ,\n",
              "         0.        ,  0.        , -0.14475001,  0.26569354,  0.        ,\n",
              "         0.76566371,  0.37354063,  0.01289386,  0.29184126,  0.03878696,\n",
              "        -0.        ,  0.        , -0.        ,  0.        ]),\n",
              " array([ 0.        ,  2.56809804,  0.        ,  0.        ,  0.        ,\n",
              "         0.        ,  0.        , -0.15189117,  0.24753951,  0.        ,\n",
              "         0.83020863,  0.39602177,  0.01199198,  0.29077526,  0.06374981,\n",
              "        -0.        ,  0.        , -0.        ,  0.        ]),\n",
              " array([-1.9149011 ,  8.16708256,  1.273036  , -1.78017053, -0.        ,\n",
              "         4.82815997,  0.        , -0.12421484, -0.14276625, -0.45811395,\n",
              "         1.60225452,  0.66890457, -0.53420879,  0.27170067,  0.23589699,\n",
              "        -0.        ,  0.        , -9.60801519,  0.        ]),\n",
              " array([ 0.        ,  2.61045438,  0.        ,  0.        ,  0.        ,\n",
              "         0.        ,  0.        , -0.16493226,  0.28241638,  0.        ,\n",
              "         0.83107316,  0.40706651,  0.02514444,  0.28770073,  0.06918304,\n",
              "        -0.        ,  0.        , -0.        ,  0.        ]),\n",
              " array([-0.43151565,  3.74672356,  0.        ,  0.        ,  0.        ,\n",
              "         1.46897276,  0.        , -0.20277185,  0.40195891, -0.        ,\n",
              "         0.8295139 ,  0.44282535, -0.        ,  0.26979061,  0.11748171,\n",
              "        -0.        ,  0.        , -0.        ,  0.        ]),\n",
              " array([-0.07789581,  2.70783923,  0.        ,  0.        ,  0.        ,\n",
              "         1.02662738,  0.        , -0.20722688,  0.42724729, -0.        ,\n",
              "         0.81604348,  0.43964839,  0.        ,  0.27161254,  0.09380404,\n",
              "        -0.        ,  0.        , -0.        ,  0.        ])]"
            ]
          },
          "metadata": {},
          "execution_count": 10
        }
      ]
    },
    {
      "cell_type": "code",
      "source": [
        "ax=plt.gca()\n",
        "ax.plot(alphas, coefs)\n",
        "ax.set_xscale(\"log\")"
      ],
      "metadata": {
        "id": "0yaHKFw1SbOW",
        "colab": {
          "base_uri": "https://localhost:8080/",
          "height": 434
        },
        "outputId": "9f828ac9-f26f-4478-f8a9-f4627e7f32c0"
      },
      "execution_count": 11,
      "outputs": [
        {
          "output_type": "display_data",
          "data": {
            "text/plain": [
              "<Figure size 640x480 with 1 Axes>"
            ],
            "image/png": "[encoded data removed]"
          },
          "metadata": {}
        }
      ]
    },
    {
      "cell_type": "markdown",
      "source": [
        "##Tahmin"
      ],
      "metadata": {
        "id": "Zx8kQk0ITNzR"
      }
    },
    {
      "cell_type": "code",
      "source": [
        "lasso_model"
      ],
      "metadata": {
        "id": "fnebqkWpSwty",
        "colab": {
          "base_uri": "https://localhost:8080/",
          "height": 74
        },
        "outputId": "8cf7d69f-6564-44a8-ebcb-38bad2bb9389"
      },
      "execution_count": 12,
      "outputs": [
        {
          "output_type": "execute_result",
          "data": {
            "text/plain": [
              "Lasso()"
            ],
            "text/html": [
              "<style>#sk-container-id-2 {color: black;background-color: white;}#sk-container-id-2 pre{padding: 0;}#sk-container-id-2 div.sk-toggleable {background-color: white;}#sk-container-id-2 label.sk-toggleable__label {cursor: pointer;display: block;width: 100%;margin-bottom: 0;padding: 0.3em;box-sizing: border-box;text-align: center;}#sk-container-id-2 label.sk-toggleable__label-arrow:before {content: \"▸\";float: left;margin-right: 0.25em;color: #696969;}#sk-container-id-2 label.sk-toggleable__label-arrow:hover:before {color: black;}#sk-container-id-2 div.sk-estimator:hover label.sk-toggleable__label-arrow:before {color: black;}#sk-container-id-2 div.sk-toggleable__content {max-height: 0;max-width: 0;overflow: hidden;text-align: left;background-color: #f0f8ff;}#sk-container-id-2 div.sk-toggleable__content pre {margin: 0.2em;color: black;border-radius: 0.25em;background-color: #f0f8ff;}#sk-container-id-2 input.sk-toggleable__control:checked~div.sk-toggleable__content {max-height: 200px;max-width: 100%;overflow: auto;}#sk-container-id-2 input.sk-toggleable__control:checked~label.sk-toggleable__label-arrow:before {content: \"▾\";}#sk-container-id-2 div.sk-estimator input.sk-toggleable__control:checked~label.sk-toggleable__label {background-color: #d4ebff;}#sk-container-id-2 div.sk-label input.sk-toggleable__control:checked~label.sk-toggleable__label {background-color: #d4ebff;}#sk-container-id-2 input.sk-hidden--visually {border: 0;clip: rect(1px 1px 1px 1px);clip: rect(1px, 1px, 1px, 1px);height: 1px;margin: -1px;overflow: hidden;padding: 0;position: absolute;width: 1px;}#sk-container-id-2 div.sk-estimator {font-family: monospace;background-color: #f0f8ff;border: 1px dotted black;border-radius: 0.25em;box-sizing: border-box;margin-bottom: 0.5em;}#sk-container-id-2 div.sk-estimator:hover {background-color: #d4ebff;}#sk-container-id-2 div.sk-parallel-item::after {content: \"\";width: 100%;border-bottom: 1px solid gray;flex-grow: 1;}#sk-container-id-2 div.sk-label:hover label.sk-toggleable__label {background-color: #d4ebff;}#sk-container-id-2 div.sk-serial::before {content: \"\";position: absolute;border-left: 1px solid gray;box-sizing: border-box;top: 0;bottom: 0;left: 50%;z-index: 0;}#sk-container-id-2 div.sk-serial {display: flex;flex-direction: column;align-items: center;background-color: white;padding-right: 0.2em;padding-left: 0.2em;position: relative;}#sk-container-id-2 div.sk-item {position: relative;z-index: 1;}#sk-container-id-2 div.sk-parallel {display: flex;align-items: stretch;justify-content: center;background-color: white;position: relative;}#sk-container-id-2 div.sk-item::before, #sk-container-id-2 div.sk-parallel-item::before {content: \"\";position: absolute;border-left: 1px solid gray;box-sizing: border-box;top: 0;bottom: 0;left: 50%;z-index: -1;}#sk-container-id-2 div.sk-parallel-item {display: flex;flex-direction: column;z-index: 1;position: relative;background-color: white;}#sk-container-id-2 div.sk-parallel-item:first-child::after {align-self: flex-end;width: 50%;}#sk-container-id-2 div.sk-parallel-item:last-child::after {align-self: flex-start;width: 50%;}#sk-container-id-2 div.sk-parallel-item:only-child::after {width: 0;}#sk-container-id-2 div.sk-dashed-wrapped {border: 1px dashed gray;margin: 0 0.4em 0.5em 0.4em;box-sizing: border-box;padding-bottom: 0.4em;background-color: white;}#sk-container-id-2 div.sk-label label {font-family: monospace;font-weight: bold;display: inline-block;line-height: 1.2em;}#sk-container-id-2 div.sk-label-container {text-align: center;}#sk-container-id-2 div.sk-container {/* jupyter's `normalize.less` sets `[hidden] { display: none; }` but bootstrap.min.css set `[hidden] { display: none !important; }` so we also need the `!important` here to be able to override the default hidden behavior on the sphinx rendered scikit-learn.org. See: https://github.com/scikit-learn/scikit-learn/issues/21755 */display: inline-block !important;position: relative;}#sk-container-id-2 div.sk-text-repr-fallback {display: none;}</style><div id=\"sk-container-id-2\" class=\"sk-top-container\"><div class=\"sk-text-repr-fallback\"><pre>Lasso()</pre><b>In a Jupyter environment, please rerun this cell to show the HTML representation or trust the notebook. <br />On GitHub, the HTML representation is unable to render, please try loading this page with nbviewer.org.</b></div><div class=\"sk-container\" hidden><div class=\"sk-item\"><div class=\"sk-estimator sk-toggleable\"><input class=\"sk-toggleable__control sk-hidden--visually\" id=\"sk-estimator-id-2\" type=\"checkbox\" checked><label for=\"sk-estimator-id-2\" class=\"sk-toggleable__label sk-toggleable__label-arrow\">Lasso</label><div class=\"sk-toggleable__content\"><pre>Lasso()</pre></div></div></div></div></div>"
            ]
          },
          "metadata": {},
          "execution_count": 12
        }
      ]
    },
    {
      "cell_type": "code",
      "source": [
        "lasso_model.predict(X_train)[0:5]"
      ],
      "metadata": {
        "id": "M-2snR74TMGd",
        "colab": {
          "base_uri": "https://localhost:8080/"
        },
        "outputId": "2b812a89-17e1-4e7a-de99-e56047942a20"
      },
      "execution_count": 13,
      "outputs": [
        {
          "output_type": "execute_result",
          "data": {
            "text/plain": [
              "array([377.26270596, 786.51524513, 495.14140718, 117.19492966,\n",
              "       429.04228506])"
            ]
          },
          "metadata": {},
          "execution_count": 13
        }
      ]
    },
    {
      "cell_type": "code",
      "source": [
        "lasso_model.predict(X_test)[0:5]"
      ],
      "metadata": {
        "id": "tUhbm-SyTVUm",
        "colab": {
          "base_uri": "https://localhost:8080/"
        },
        "outputId": "677f15d5-6598-4aff-b970-7db6eb37572c"
      },
      "execution_count": 14,
      "outputs": [
        {
          "output_type": "execute_result",
          "data": {
            "text/plain": [
              "array([ 609.18826367,  696.96810702, 1009.06157391,  412.22773375,\n",
              "        409.25851712])"
            ]
          },
          "metadata": {},
          "execution_count": 14
        }
      ]
    },
    {
      "cell_type": "code",
      "source": [
        "y_pred = lasso_model.predict(X_test)"
      ],
      "metadata": {
        "id": "71i_6zHSTZz4"
      },
      "execution_count": 15,
      "outputs": []
    },
    {
      "cell_type": "code",
      "source": [
        "y_pred = lasso_model.predict(X_test)"
      ],
      "metadata": {
        "id": "cjz7teZS1d-m"
      },
      "execution_count": null,
      "outputs": []
    },
    {
      "cell_type": "code",
      "source": [
        "np.sqrt(mean_squared_error(y_test, y_pred))"
      ],
      "metadata": {
        "outputId": "4492c04d-10ae-4868-8e0d-f004f4bd5c28",
        "colab": {
          "base_uri": "https://localhost:8080/"
        },
        "id": "6NseBJC11d-n"
      },
      "execution_count": null,
      "outputs": [
        {
          "output_type": "execute_result",
          "data": {
            "text/plain": [
              "356.0975884554034"
            ]
          },
          "metadata": {},
          "execution_count": 17
        }
      ]
    },
    {
      "cell_type": "code",
      "source": [
        "np.sqrt(mean_squared_error(y_test, y_pred))"
      ],
      "metadata": {
        "colab": {
          "base_uri": "https://localhost:8080/"
        },
        "id": "no5TkjIlz1KR",
        "outputId": "4492c04d-10ae-4868-8e0d-f004f4bd5c28"
      },
      "execution_count": 17,
      "outputs": [
        {
          "output_type": "execute_result",
          "data": {
            "text/plain": [
              "356.0975884554034"
            ]
          },
          "metadata": {},
          "execution_count": 17
        }
      ]
    },
    {
      "cell_type": "code",
      "source": [
        "r2_score(y_test, y_pred)"
      ],
      "metadata": {
        "id": "hoFetY0xz5jS",
        "outputId": "0de0c781-06bf-494f-aad7-9b1ef156aea2",
        "colab": {
          "base_uri": "https://localhost:8080/"
        }
      },
      "execution_count": 18,
      "outputs": [
        {
          "output_type": "execute_result",
          "data": {
            "text/plain": [
              "0.41422798132366156"
            ]
          },
          "metadata": {},
          "execution_count": 18
        }
      ]
    },
    {
      "cell_type": "code",
      "source": [],
      "metadata": {
        "id": "HUbQiidz0FUf"
      },
      "execution_count": null,
      "outputs": []
    },
    {
      "cell_type": "markdown",
      "source": [
        "##Model Tuning"
      ],
      "metadata": {
        "id": "AkTlhlRN0msi"
      }
    },
    {
      "cell_type": "code",
      "source": [
        "alphas=10**np.linspace(10,-2,100)*0.5"
      ],
      "metadata": {
        "id": "EyZcfu5S1vp9"
      },
      "execution_count": 25,
      "outputs": []
    },
    {
      "cell_type": "code",
      "source": [
        "lasso_cv_model= LassoCV(alphas=alphas,cv=10,max_iter=100000).fit(X_train, y_train)"
      ],
      "metadata": {
        "id": "Sql7FCTg0n5f"
      },
      "execution_count": 29,
      "outputs": []
    },
    {
      "cell_type": "code",
      "source": [
        "lasso_cv_model.alpha_"
      ],
      "metadata": {
        "id": "beA6sTlG1F71",
        "outputId": "f628a8d0-f7e3-4f37-b762-b67d1cf52e24",
        "colab": {
          "base_uri": "https://localhost:8080/"
        }
      },
      "execution_count": 30,
      "outputs": [
        {
          "output_type": "execute_result",
          "data": {
            "text/plain": [
              "201.85086292982749"
            ]
          },
          "metadata": {},
          "execution_count": 30
        }
      ]
    },
    {
      "cell_type": "code",
      "source": [
        "lasso_tuned = Lasso().set_params(alpha=lasso_cv_model.alpha_).fit(X_train, y_train)"
      ],
      "metadata": {
        "id": "bY_zu_3t1XXl"
      },
      "execution_count": 31,
      "outputs": []
    },
    {
      "cell_type": "code",
      "source": [
        "y_pred = lasso_model.predict(X_test)"
      ],
      "metadata": {
        "id": "nbKjpD5_1gUk"
      },
      "execution_count": 32,
      "outputs": []
    },
    {
      "cell_type": "code",
      "source": [
        "np.sqrt(mean_squared_error(y_test, y_pred))"
      ],
      "metadata": {
        "outputId": "a8510990-8ba3-4cad-9711-212a87843d06",
        "colab": {
          "base_uri": "https://localhost:8080/"
        },
        "id": "jlYetm-k1gUl"
      },
      "execution_count": 33,
      "outputs": [
        {
          "output_type": "execute_result",
          "data": {
            "text/plain": [
              "356.0975884554034"
            ]
          },
          "metadata": {},
          "execution_count": 33
        }
      ]
    },
    {
      "cell_type": "code",
      "source": [
        "pd.Series(lasso_tuned.coef_, index=X_train.columns)"
      ],
      "metadata": {
        "id": "K5zXOqbj1kLh",
        "outputId": "c12912c2-8cf5-4041-b147-d395f19dde29",
        "colab": {
          "base_uri": "https://localhost:8080/"
        }
      },
      "execution_count": 34,
      "outputs": [
        {
          "output_type": "execute_result",
          "data": {
            "text/plain": [
              "AtBat         -1.052276\n",
              "Hits           5.342648\n",
              "HmRun          0.000000\n",
              "Runs           0.000000\n",
              "RBI            0.000000\n",
              "Walks          2.640006\n",
              "Years          0.000000\n",
              "CAtBat        -0.174125\n",
              "CHits          0.249805\n",
              "CHmRun        -0.000000\n",
              "CRuns          1.035075\n",
              "CRBI           0.469281\n",
              "CWalks        -0.186771\n",
              "PutOuts        0.272541\n",
              "Assists        0.170528\n",
              "Errors        -0.000000\n",
              "League_N       0.000000\n",
              "Division_W    -0.000000\n",
              "NewLeague_N    0.000000\n",
              "dtype: float64"
            ]
          },
          "metadata": {},
          "execution_count": 34
        }
      ]
    },
    {
      "cell_type": "code",
      "source": [],
      "metadata": {
        "id": "4NeLE6P32g2h"
      },
      "execution_count": null,
      "outputs": []
    }
  ]
}